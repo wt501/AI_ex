{
  "nbformat": 4,
  "nbformat_minor": 0,
  "metadata": {
    "colab": {
      "provenance": []
    },
    "kernelspec": {
      "name": "python3",
      "display_name": "Python 3"
    },
    "language_info": {
      "name": "python"
    }
  },
  "cells": [
    {
      "cell_type": "code",
      "execution_count": 15,
      "metadata": {
        "colab": {
          "base_uri": "https://localhost:8080/"
        },
        "id": "ItPfeHkrM_mZ",
        "outputId": "e77fb07f-5e9b-4c81-c8e2-fc17140e4ba9"
      },
      "outputs": [
        {
          "output_type": "stream",
          "name": "stdout",
          "text": [
            "0.366883116883117x + 41.48593073593072\n"
          ]
        }
      ],
      "source": [
        "from sklearn.linear_model import LinearRegression # おまじない\n",
        "\n",
        "lr = LinearRegression() # 線形回帰モデルを定義\n",
        "x = [[21], [43], [131]] # 説明変数\n",
        "y = [43, 65, 88]        # 目的変数\n",
        "\n",
        "lr.fit(x, y)            # 学習スタート\n",
        "a = lr.coef_[0]         # 傾き\n",
        "b = lr.intercept_       # 切片\n",
        "print(f\"{a}x + {b}\")    # 直線の式の表示"
      ]
    },
    {
      "cell_type": "code",
      "source": [
        "pred = lr.predict([[87]]) # x=87のときの予測を行う\n",
        "pred = pred[0]            # predの0番目の要素をpredに代入する\n",
        "print(pred)               # 予測結果を表示する"
      ],
      "metadata": {
        "colab": {
          "base_uri": "https://localhost:8080/"
        },
        "id": "hBNn2zGCJ6Va",
        "outputId": "9a002f4b-8e27-4507-c9d6-90c84881dee3"
      },
      "execution_count": 16,
      "outputs": [
        {
          "output_type": "stream",
          "name": "stdout",
          "text": [
            "73.4047619047619\n"
          ]
        }
      ]
    },
    {
      "cell_type": "code",
      "source": [
        "lr = LinearRegression()\n",
        "x = [[240], [60], [20], [180], [300]]\n",
        "y = [432, 350, 151, 478, 401]\n",
        "\n",
        "lr.fit(x, y)\n",
        "a = lr.coef_[0]\n",
        "b = lr.intercept_\n",
        "print(f\"{a}x + {b}\")\n",
        "\n",
        "t = 120\n",
        "pred = lr.predict([[t]])\n",
        "print(f\"{t}分勉強したら{pred[0]:.2f}点とれる！\")"
      ],
      "metadata": {
        "colab": {
          "base_uri": "https://localhost:8080/"
        },
        "id": "UzaYkebSz8CB",
        "outputId": "fbf34893-de75-43a0-9e7e-5c89dbfc14a9"
      },
      "execution_count": 17,
      "outputs": [
        {
          "output_type": "stream",
          "name": "stdout",
          "text": [
            "0.7878571428571426x + 236.34285714285716\n",
            "120分勉強したら330.89点とれる！\n"
          ]
        }
      ]
    }
  ]
}